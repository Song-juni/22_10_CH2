{
  "nbformat": 4,
  "nbformat_minor": 0,
  "metadata": {
    "colab": {
      "provenance": [],
      "authorship_tag": "ABX9TyP6/15KkOULt2Gs6CT7UMS1",
      "include_colab_link": true
    },
    "kernelspec": {
      "name": "python3",
      "display_name": "Python 3"
    },
    "language_info": {
      "name": "python"
    }
  },
  "cells": [
    {
      "cell_type": "markdown",
      "metadata": {
        "id": "view-in-github",
        "colab_type": "text"
      },
      "source": [
        "<a href=\"https://colab.research.google.com/github/Song-juni/22_10_CH2/blob/main/CH2.ipynb\" target=\"_parent\"><img src=\"https://colab.research.google.com/assets/colab-badge.svg\" alt=\"Open In Colab\"/></a>"
      ]
    },
    {
      "cell_type": "code",
      "execution_count": 19,
      "metadata": {
        "colab": {
          "base_uri": "https://localhost:8080/"
        },
        "id": "EY6HyAW7jygd",
        "outputId": "6832ba79-79d0-42cc-d3f9-bd572b4cb5e0"
      },
      "outputs": [
        {
          "output_type": "stream",
          "name": "stdout",
          "text": [
            "이름을 입력하시오: 홍길동\n",
            "홍길동 씨, 안녕하세요?\n",
            "파이썬에 오신 것을 환영합니다.\n"
          ]
        }
      ],
      "source": [
        "name = input(\"이름을 입력하시오: \")\n",
        "print(name, \"씨, 안녕하세요?\")\n",
        "print(\"파이썬에 오신 것을 환영합니다.\")"
      ]
    },
    {
      "cell_type": "code",
      "source": [
        "x = int(input(\"첫 번째 정수를 입력하시오: \"))\n",
        "y = int(input(\"두 번째 정수를 입력하시오: \"))\n",
        "z = x + y\n",
        "print(x,\"과\", y,\"의 합은\", z,\"입니다.\")"
      ],
      "metadata": {
        "colab": {
          "base_uri": "https://localhost:8080/"
        },
        "id": "E5PSbhhqvT4t",
        "outputId": "9a70ce87-d039-4cb3-a77e-913b0397ba9e"
      },
      "execution_count": 22,
      "outputs": [
        {
          "output_type": "stream",
          "name": "stdout",
          "text": [
            "첫 번째 정수를 입력하시오: 300\n",
            "두 번째 정수를 입력하시오: 400\n",
            "300 과 400 의 합은 700 입니다.\n"
          ]
        }
      ]
    }
  ]
}